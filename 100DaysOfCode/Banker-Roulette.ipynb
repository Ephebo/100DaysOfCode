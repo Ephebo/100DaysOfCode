{
 "cells": [
  {
   "cell_type": "code",
   "execution_count": 17,
   "metadata": {},
   "outputs": [
    {
     "name": "stdout",
     "output_type": "stream",
     "text": [
      "\n",
      " ______________\n",
      "||            ||\n",
      "||            ||\n",
      "||   Banker   ||\n",
      "||  Routter   ||\n",
      "||____________||\n",
      "|______________|\n",
      "\\############# \\\n",
      " \\############# \\\n",
      "  \\      ____    \\  \n",
      "   \\_____\\___\\____\\\n",
      "        \n",
      "\n",
      "José is going to buy the meal today!\n"
     ]
    }
   ],
   "source": [
    "from random import randint\n",
    "\n",
    "print(\"\"\"\n",
    " ______________\n",
    "||            ||\n",
    "||            ||\n",
    "||   Banker   ||\n",
    "||  Roulette  ||\n",
    "||____________||\n",
    "|______________|\n",
    "\\\\############# \\\\\n",
    " \\\\############# \\\\\n",
    "  \\      ____    \\\\  \n",
    "   \\_____\\___\\____\\\\\n",
    "        \n",
    "\"\"\")\n",
    "\n",
    "\n",
    "names_string = input(\"Give me everybody's names, separated by a comma. \")\n",
    "names = names_string.split(\", \")\n",
    "\n",
    "print(names[randint(0,len(names)-1)] + \" is going to buy the meal today!\")\n",
    "\n",
    "\n"
   ]
  }
 ],
 "metadata": {
  "kernelspec": {
   "display_name": "Python 3",
   "language": "python",
   "name": "python3"
  },
  "language_info": {
   "codemirror_mode": {
    "name": "ipython",
    "version": 3
   },
   "file_extension": ".py",
   "mimetype": "text/x-python",
   "name": "python",
   "nbconvert_exporter": "python",
   "pygments_lexer": "ipython3",
   "version": "3.11.1"
  },
  "orig_nbformat": 4,
  "vscode": {
   "interpreter": {
    "hash": "b53e70d70ac458cfc4383f35b04ff24b9df67e4cc010e5fdbef4c83d7054803c"
   }
  }
 },
 "nbformat": 4,
 "nbformat_minor": 2
}
